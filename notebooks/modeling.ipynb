{
 "cells": [
  {
   "metadata": {},
   "cell_type": "markdown",
   "source": "### Import Libraries",
   "id": "8074664741742dfe"
  },
  {
   "metadata": {
    "ExecuteTime": {
     "end_time": "2024-10-10T22:05:11.916083Z",
     "start_time": "2024-10-10T22:05:11.716509Z"
    }
   },
   "cell_type": "code",
   "source": [
    "# Import necessary libraries\n",
    "import pandas as pd\n",
    "import numpy as np\n",
    "import gzip\n",
    "import matplotlib.pyplot as plt\n",
    "import seaborn as sns\n",
    "from sklearn.feature_extraction.text import TfidfVectorizer, HashingVectorizer, CountVectorizer\n",
    "from sklearn.metrics.pairwise import cosine_similarity\n",
    "from sklearn.preprocessing import MultiLabelBinarizer\n",
    "from sklearn.decomposition import TruncatedSVD\n",
    "from sklearn.model_selection import train_test_split\n",
    "from sklearn.metrics import precision_score, recall_score, f1_score\n",
    "from datetime import datetime\n",
    "import ast\n",
    "import warnings\n",
    "warnings.filterwarnings('ignore')\n"
   ],
   "id": "6eb761506da6c52c",
   "outputs": [],
   "execution_count": 1
  },
  {
   "metadata": {},
   "cell_type": "markdown",
   "source": "### Load Cleaned Data",
   "id": "1968e4d10443815f"
  },
  {
   "metadata": {
    "ExecuteTime": {
     "end_time": "2024-10-10T22:05:24.384276Z",
     "start_time": "2024-10-10T22:05:11.919330Z"
    }
   },
   "cell_type": "code",
   "source": [
    "titles = pd.read_csv('titles_cleaned.csv')\n",
    "interactions = pd.read_csv('interactions_cleaned.csv')"
   ],
   "id": "1a8d7f003078898",
   "outputs": [],
   "execution_count": 2
  },
  {
   "metadata": {},
   "cell_type": "markdown",
   "source": "## Feature Engineering",
   "id": "2c5b325fa5b1abd2"
  },
  {
   "metadata": {},
   "cell_type": "markdown",
   "source": "### Convert String Representation of Lists Back to Lists",
   "id": "76816c4ed4e6b386"
  },
  {
   "metadata": {
    "ExecuteTime": {
     "end_time": "2024-10-10T22:05:25.162916Z",
     "start_time": "2024-10-10T22:05:24.531837Z"
    }
   },
   "cell_type": "code",
   "source": [
    "def str_to_list(x):\n",
    "    try:\n",
    "        return ast.literal_eval(x)\n",
    "    except:\n",
    "        return ['Unknown']\n",
    "\n",
    "multivalued_columns = ['GENRE_TMDB', 'DIRECTOR', 'ACTOR', 'PRODUCER']\n",
    "for col in multivalued_columns:\n",
    "    titles[col] = titles[col].apply(str_to_list)\n"
   ],
   "id": "8b94e9ef4440ec50",
   "outputs": [],
   "execution_count": 3
  },
  {
   "metadata": {
    "ExecuteTime": {
     "end_time": "2024-10-10T22:05:25.195791Z",
     "start_time": "2024-10-10T22:05:25.185501Z"
    }
   },
   "cell_type": "code",
   "source": "titles",
   "id": "fc1707c249bf8db0",
   "outputs": [
    {
     "data": {
      "text/plain": [
       "        TITLE_ID           ORIGINAL_TITLE ORIGINAL_LANGUAGE  \\\n",
       "0      tm1282307  L'ultima notte di Amore                it   \n",
       "1      tm1338500       Bird Box Barcelona                es   \n",
       "2       ts371824        Steeltown Murders                en   \n",
       "3       tm123363              Expend4bles                en   \n",
       "4      tm1045025                       65                en   \n",
       "...          ...                      ...               ...   \n",
       "20624    ts21325                   Hunter                en   \n",
       "20625  tm1382322          Strange Darling                en   \n",
       "20626    ts21242      Mission: Impossible                en   \n",
       "20627    ts37497        Popeye the Sailor                en   \n",
       "20628   tm188638                    Gypsy                en   \n",
       "\n",
       "       RELEASE_DURATION_DAYS                            GENRE_TMDB  \\\n",
       "0                      484.0                     [drama, thriller]   \n",
       "1                      357.0             [horror, scifi, thriller]   \n",
       "2                      417.0     [crime, drama, history, thriller]   \n",
       "3                      294.0               [action, thriller, war]   \n",
       "4                      491.0      [action, drama, scifi, thriller]   \n",
       "...                      ...                                   ...   \n",
       "20624                14535.0      [action, crime, drama, thriller]   \n",
       "20625                 3720.0                    [horror, thriller]   \n",
       "20626                21111.0      [action, crime, drama, thriller]   \n",
       "20627                23401.0  [animation, comedy, family, romance]   \n",
       "20628                11163.0                [comedy, drama, music]   \n",
       "\n",
       "                                                DIRECTOR  \\\n",
       "0                                    [Andrea Di Stefano]   \n",
       "1                            [David Pastor, Àlex Pastor]   \n",
       "2                                           [Marc Evans]   \n",
       "3                                          [Scott Waugh]   \n",
       "4                              [Bryan Woods, Scott Beck]   \n",
       "...                                                  ...   \n",
       "20624  [David Soul, Tony Mordente, Gus Trikonis, Jame...   \n",
       "20625                                       [JT Mollner]   \n",
       "20626  [Tom Gries, Leonard J. Horn, Seymour Robbie, H...   \n",
       "20627  [Jack Kinney, Paul Fennell, Bob Bemiller, Tom ...   \n",
       "20628                                   [Emile Ardolino]   \n",
       "\n",
       "                                                   ACTOR  \\\n",
       "0      [Pierfrancesco Favino, Linda Caridi, Antonio G...   \n",
       "1      [Mario Casas, Georgina Campbell, Diego Calva, ...   \n",
       "2      [Scott Arthur, Sion Alun Davies, Keith Allen, ...   \n",
       "3      [Jason Statham, Sylvester Stallone, 50 Cent, M...   \n",
       "4      [Adam Driver, Ariana Greenblatt, Chloe Coleman...   \n",
       "...                                                  ...   \n",
       "20624  [Fred Dryer, Stepfanie Kramer, Charles Hallaha...   \n",
       "20625  [Willa Fitzgerald, Kyle Gallner, Jason Patric,...   \n",
       "20626  [Peter Graves, Greg Morris, Peter Lupus, Bob J...   \n",
       "20627           [Jack Mercer, Mae Questel, Jackson Beck]   \n",
       "20628  [Bette Midler, Cynthia Gibb, Elisabeth Moss, P...   \n",
       "\n",
       "                                                PRODUCER  \n",
       "0      [Benedetto Habib, Daniel Campos Pavoncelli, Fa...  \n",
       "1      [Adrián Guerra, Chris Morgan, Dylan Clark, Núr...  \n",
       "2                                        [Hannah Thomas]  \n",
       "3      [Jason Statham, Jeffrey Greenstein, Jonathan Y...  \n",
       "4      [Bryan Woods, Deborah Liebling, Sam Raimi, Sco...  \n",
       "...                                                  ...  \n",
       "20624  [Frank Lupo, Fred Dryer, George Geiger, Lawren...  \n",
       "20625  [Bill Block, Giovanni Ribisi, Roy Lee, Steven ...  \n",
       "20626  [Allan Balter, Barry Crane, Joseph Gantman, Ro...  \n",
       "20627                                        [Al Brodax]  \n",
       "20628                    [Cindy Gilmore, Emile Ardolino]  \n",
       "\n",
       "[20629 rows x 8 columns]"
      ],
      "text/html": [
       "<div>\n",
       "<style scoped>\n",
       "    .dataframe tbody tr th:only-of-type {\n",
       "        vertical-align: middle;\n",
       "    }\n",
       "\n",
       "    .dataframe tbody tr th {\n",
       "        vertical-align: top;\n",
       "    }\n",
       "\n",
       "    .dataframe thead th {\n",
       "        text-align: right;\n",
       "    }\n",
       "</style>\n",
       "<table border=\"1\" class=\"dataframe\">\n",
       "  <thead>\n",
       "    <tr style=\"text-align: right;\">\n",
       "      <th></th>\n",
       "      <th>TITLE_ID</th>\n",
       "      <th>ORIGINAL_TITLE</th>\n",
       "      <th>ORIGINAL_LANGUAGE</th>\n",
       "      <th>RELEASE_DURATION_DAYS</th>\n",
       "      <th>GENRE_TMDB</th>\n",
       "      <th>DIRECTOR</th>\n",
       "      <th>ACTOR</th>\n",
       "      <th>PRODUCER</th>\n",
       "    </tr>\n",
       "  </thead>\n",
       "  <tbody>\n",
       "    <tr>\n",
       "      <th>0</th>\n",
       "      <td>tm1282307</td>\n",
       "      <td>L'ultima notte di Amore</td>\n",
       "      <td>it</td>\n",
       "      <td>484.0</td>\n",
       "      <td>[drama, thriller]</td>\n",
       "      <td>[Andrea Di Stefano]</td>\n",
       "      <td>[Pierfrancesco Favino, Linda Caridi, Antonio G...</td>\n",
       "      <td>[Benedetto Habib, Daniel Campos Pavoncelli, Fa...</td>\n",
       "    </tr>\n",
       "    <tr>\n",
       "      <th>1</th>\n",
       "      <td>tm1338500</td>\n",
       "      <td>Bird Box Barcelona</td>\n",
       "      <td>es</td>\n",
       "      <td>357.0</td>\n",
       "      <td>[horror, scifi, thriller]</td>\n",
       "      <td>[David Pastor, Àlex Pastor]</td>\n",
       "      <td>[Mario Casas, Georgina Campbell, Diego Calva, ...</td>\n",
       "      <td>[Adrián Guerra, Chris Morgan, Dylan Clark, Núr...</td>\n",
       "    </tr>\n",
       "    <tr>\n",
       "      <th>2</th>\n",
       "      <td>ts371824</td>\n",
       "      <td>Steeltown Murders</td>\n",
       "      <td>en</td>\n",
       "      <td>417.0</td>\n",
       "      <td>[crime, drama, history, thriller]</td>\n",
       "      <td>[Marc Evans]</td>\n",
       "      <td>[Scott Arthur, Sion Alun Davies, Keith Allen, ...</td>\n",
       "      <td>[Hannah Thomas]</td>\n",
       "    </tr>\n",
       "    <tr>\n",
       "      <th>3</th>\n",
       "      <td>tm123363</td>\n",
       "      <td>Expend4bles</td>\n",
       "      <td>en</td>\n",
       "      <td>294.0</td>\n",
       "      <td>[action, thriller, war]</td>\n",
       "      <td>[Scott Waugh]</td>\n",
       "      <td>[Jason Statham, Sylvester Stallone, 50 Cent, M...</td>\n",
       "      <td>[Jason Statham, Jeffrey Greenstein, Jonathan Y...</td>\n",
       "    </tr>\n",
       "    <tr>\n",
       "      <th>4</th>\n",
       "      <td>tm1045025</td>\n",
       "      <td>65</td>\n",
       "      <td>en</td>\n",
       "      <td>491.0</td>\n",
       "      <td>[action, drama, scifi, thriller]</td>\n",
       "      <td>[Bryan Woods, Scott Beck]</td>\n",
       "      <td>[Adam Driver, Ariana Greenblatt, Chloe Coleman...</td>\n",
       "      <td>[Bryan Woods, Deborah Liebling, Sam Raimi, Sco...</td>\n",
       "    </tr>\n",
       "    <tr>\n",
       "      <th>...</th>\n",
       "      <td>...</td>\n",
       "      <td>...</td>\n",
       "      <td>...</td>\n",
       "      <td>...</td>\n",
       "      <td>...</td>\n",
       "      <td>...</td>\n",
       "      <td>...</td>\n",
       "      <td>...</td>\n",
       "    </tr>\n",
       "    <tr>\n",
       "      <th>20624</th>\n",
       "      <td>ts21325</td>\n",
       "      <td>Hunter</td>\n",
       "      <td>en</td>\n",
       "      <td>14535.0</td>\n",
       "      <td>[action, crime, drama, thriller]</td>\n",
       "      <td>[David Soul, Tony Mordente, Gus Trikonis, Jame...</td>\n",
       "      <td>[Fred Dryer, Stepfanie Kramer, Charles Hallaha...</td>\n",
       "      <td>[Frank Lupo, Fred Dryer, George Geiger, Lawren...</td>\n",
       "    </tr>\n",
       "    <tr>\n",
       "      <th>20625</th>\n",
       "      <td>tm1382322</td>\n",
       "      <td>Strange Darling</td>\n",
       "      <td>en</td>\n",
       "      <td>3720.0</td>\n",
       "      <td>[horror, thriller]</td>\n",
       "      <td>[JT Mollner]</td>\n",
       "      <td>[Willa Fitzgerald, Kyle Gallner, Jason Patric,...</td>\n",
       "      <td>[Bill Block, Giovanni Ribisi, Roy Lee, Steven ...</td>\n",
       "    </tr>\n",
       "    <tr>\n",
       "      <th>20626</th>\n",
       "      <td>ts21242</td>\n",
       "      <td>Mission: Impossible</td>\n",
       "      <td>en</td>\n",
       "      <td>21111.0</td>\n",
       "      <td>[action, crime, drama, thriller]</td>\n",
       "      <td>[Tom Gries, Leonard J. Horn, Seymour Robbie, H...</td>\n",
       "      <td>[Peter Graves, Greg Morris, Peter Lupus, Bob J...</td>\n",
       "      <td>[Allan Balter, Barry Crane, Joseph Gantman, Ro...</td>\n",
       "    </tr>\n",
       "    <tr>\n",
       "      <th>20627</th>\n",
       "      <td>ts37497</td>\n",
       "      <td>Popeye the Sailor</td>\n",
       "      <td>en</td>\n",
       "      <td>23401.0</td>\n",
       "      <td>[animation, comedy, family, romance]</td>\n",
       "      <td>[Jack Kinney, Paul Fennell, Bob Bemiller, Tom ...</td>\n",
       "      <td>[Jack Mercer, Mae Questel, Jackson Beck]</td>\n",
       "      <td>[Al Brodax]</td>\n",
       "    </tr>\n",
       "    <tr>\n",
       "      <th>20628</th>\n",
       "      <td>tm188638</td>\n",
       "      <td>Gypsy</td>\n",
       "      <td>en</td>\n",
       "      <td>11163.0</td>\n",
       "      <td>[comedy, drama, music]</td>\n",
       "      <td>[Emile Ardolino]</td>\n",
       "      <td>[Bette Midler, Cynthia Gibb, Elisabeth Moss, P...</td>\n",
       "      <td>[Cindy Gilmore, Emile Ardolino]</td>\n",
       "    </tr>\n",
       "  </tbody>\n",
       "</table>\n",
       "<p>20629 rows × 8 columns</p>\n",
       "</div>"
      ]
     },
     "execution_count": 4,
     "metadata": {},
     "output_type": "execute_result"
    }
   ],
   "execution_count": 4
  },
  {
   "metadata": {},
   "cell_type": "markdown",
   "source": [
    "### Handle Less Frequent Categories\n",
    "We'll group less frequent items as 'Other' to reduce dimensionality."
   ],
   "id": "4a062fe012f704e"
  },
  {
   "metadata": {
    "ExecuteTime": {
     "end_time": "2024-10-10T22:05:25.407721Z",
     "start_time": "2024-10-10T22:05:25.235977Z"
    }
   },
   "cell_type": "code",
   "source": [
    "def get_top_items(column, min_count):\n",
    "    all_items = titles.explode(column)[column]\n",
    "    item_counts = all_items.value_counts()\n",
    "    top_items = item_counts[item_counts >= min_count].index.tolist()\n",
    "    return top_items\n",
    "\n",
    "# Thresholds\n",
    "director_min_count = 5\n",
    "actor_min_count = 10\n",
    "producer_min_count = 5\n",
    "\n",
    "# Get top items\n",
    "top_directors = get_top_items('DIRECTOR', director_min_count)\n",
    "top_actors = get_top_items('ACTOR', actor_min_count)\n",
    "top_producers = get_top_items('PRODUCER', producer_min_count)\n"
   ],
   "id": "8853584e3b73dbb1",
   "outputs": [],
   "execution_count": 5
  },
  {
   "metadata": {},
   "cell_type": "markdown",
   "source": "#### Replace Less Frequent Items",
   "id": "7a1231ac1a64dd53"
  },
  {
   "metadata": {
    "ExecuteTime": {
     "end_time": "2024-10-10T22:05:31.663093Z",
     "start_time": "2024-10-10T22:05:25.427296Z"
    }
   },
   "cell_type": "code",
   "source": [
    "def replace_less_frequent(items, top_items):\n",
    "    return [item if item in top_items else 'other' for item in items]\n",
    "\n",
    "# Apply the function\n",
    "titles['DIRECTOR'] = titles['DIRECTOR'].apply(lambda x: replace_less_frequent(x, top_directors))\n",
    "titles['ACTOR'] = titles['ACTOR'].apply(lambda x: replace_less_frequent(x, top_actors))\n",
    "titles['PRODUCER'] = titles['PRODUCER'].apply(lambda x: replace_less_frequent(x, top_producers))\n"
   ],
   "id": "d2c1c78f17eb378f",
   "outputs": [],
   "execution_count": 6
  },
  {
   "metadata": {},
   "cell_type": "markdown",
   "source": "### Create Combined Feature ('SOUP')",
   "id": "5dfa71fc026d4b5"
  },
  {
   "metadata": {
    "ExecuteTime": {
     "end_time": "2024-10-10T22:05:31.694055Z",
     "start_time": "2024-10-10T22:05:31.668443Z"
    }
   },
   "cell_type": "code",
   "source": [
    "titles['SOUP'] = titles['ORIGINAL_TITLE'] + ' ' + \\\n",
    "                 titles['GENRE_TMDB'].apply(lambda x: ' '.join(x)) + ' ' + \\\n",
    "                 titles['DIRECTOR'].apply(lambda x: ' '.join(x)) + ' ' + \\\n",
    "                 titles['ACTOR'].apply(lambda x: ' '.join(x)) + ' ' + \\\n",
    "                 titles['PRODUCER'].apply(lambda x: ' '.join(x))"
   ],
   "id": "3e668ff72980335a",
   "outputs": [],
   "execution_count": 7
  },
  {
   "metadata": {},
   "cell_type": "markdown",
   "source": [
    "## Content-Based Filtering using Soup Features\n",
    "### Version 1: Optimized\n",
    "We will optimize the content-based filtering using the following techniques:\n",
    "\n",
    "Limiting Vocabulary Size\n",
    "Using HashingVectorizer\n",
    "Applying TruncatedSVD"
   ],
   "id": "9adc68b303622d3b"
  },
  {
   "metadata": {},
   "cell_type": "markdown",
   "source": "#### Vectorization with Limited Vocabulary Size",
   "id": "56ca9be527ff362"
  },
  {
   "metadata": {
    "ExecuteTime": {
     "end_time": "2024-10-10T22:05:44.978069Z",
     "start_time": "2024-10-10T22:05:31.703821Z"
    }
   },
   "cell_type": "code",
   "source": [
    "# Limit the vocabulary size to 5000 most frequent words\n",
    "tfidf = TfidfVectorizer(stop_words='english', max_features=5000)\n",
    "tfidf_matrix = tfidf.fit_transform(titles['SOUP'])\n",
    "print(f\"TF-IDF Matrix Shape: {tfidf_matrix.shape}\")\n",
    "\n",
    "cosine_sim_tfidf = cosine_similarity(tfidf_matrix, tfidf_matrix)\n"
   ],
   "id": "2fe1ad98f0a11c9",
   "outputs": [
    {
     "name": "stdout",
     "output_type": "stream",
     "text": [
      "TF-IDF Matrix Shape: (20629, 5000)\n"
     ]
    }
   ],
   "execution_count": 8
  },
  {
   "metadata": {},
   "cell_type": "markdown",
   "source": "#### Dimensionality Reduction with TruncatedSVD",
   "id": "b501d9cc7bb5fa12"
  },
  {
   "metadata": {
    "ExecuteTime": {
     "end_time": "2024-10-10T22:06:07.369510Z",
     "start_time": "2024-10-10T22:05:45.529211Z"
    }
   },
   "cell_type": "code",
   "source": [
    "from sklearn.decomposition import TruncatedSVD\n",
    "\n",
    "# Apply TruncatedSVD to reduce dimensions\n",
    "svd = TruncatedSVD(n_components=100, random_state=42)\n",
    "tfidf_matrix_svd = svd.fit_transform(tfidf_matrix)\n",
    "print(f\"Reduced TF-IDF Matrix Shape: {tfidf_matrix_svd.shape}\")\n",
    "\n",
    "cosine_sim_svd = cosine_similarity(tfidf_matrix_svd, tfidf_matrix_svd)"
   ],
   "id": "2a9a1511a35d7941",
   "outputs": [
    {
     "name": "stdout",
     "output_type": "stream",
     "text": [
      "Reduced TF-IDF Matrix Shape: (20629, 100)\n"
     ]
    }
   ],
   "execution_count": 9
  },
  {
   "metadata": {},
   "cell_type": "markdown",
   "source": "## Approach 2: Separate Features Similarity Search",
   "id": "4d922e0e8348c8f"
  },
  {
   "metadata": {},
   "cell_type": "markdown",
   "source": "### Vectorization of Individual Features",
   "id": "2774db6565a789ef"
  },
  {
   "metadata": {
    "ExecuteTime": {
     "end_time": "2024-10-10T22:06:08.739471Z",
     "start_time": "2024-10-10T22:06:07.632454Z"
    }
   },
   "cell_type": "code",
   "source": [
    "# Genres\n",
    "mlb_genre = MultiLabelBinarizer()\n",
    "genre_matrix = mlb_genre.fit_transform(titles['GENRE_TMDB'])\n",
    "\n",
    "# Directors\n",
    "mlb_director = MultiLabelBinarizer()\n",
    "director_matrix = mlb_director.fit_transform(titles['DIRECTOR'])\n",
    "\n",
    "# Actors\n",
    "mlb_actor = MultiLabelBinarizer()\n",
    "actor_matrix = mlb_actor.fit_transform(titles['ACTOR'])\n",
    "\n",
    "# Producers\n",
    "mlb_producer = MultiLabelBinarizer()\n",
    "producer_matrix = mlb_producer.fit_transform(titles['PRODUCER'])\n",
    "\n",
    "# Original Title\n",
    "count_vectorizer = CountVectorizer(stop_words='english', max_features=5000)\n",
    "title_matrix = count_vectorizer.fit_transform(titles['ORIGINAL_TITLE'])\n"
   ],
   "id": "43ca321c5c2c6659",
   "outputs": [],
   "execution_count": 10
  },
  {
   "metadata": {
    "ExecuteTime": {
     "end_time": "2024-10-10T22:06:27.770148Z",
     "start_time": "2024-10-10T22:06:08.760412Z"
    }
   },
   "cell_type": "code",
   "source": [
    "def reduce_dimensionality(matrix, n_components=10):\n",
    "    svd = TruncatedSVD(n_components=n_components, random_state=42)\n",
    "    return svd.fit_transform(matrix)\n",
    "\n",
    "# Reduce dimensions\n",
    "director_matrix_reduced = reduce_dimensionality(director_matrix)\n",
    "actor_matrix_reduced = reduce_dimensionality(actor_matrix)\n",
    "producer_matrix_reduced = reduce_dimensionality(producer_matrix)\n",
    "title_matrix_reduced = reduce_dimensionality(title_matrix)\n"
   ],
   "id": "8035a0df314040bb",
   "outputs": [],
   "execution_count": 11
  },
  {
   "metadata": {},
   "cell_type": "markdown",
   "source": "### Compute Similarity Matrices",
   "id": "d627d8e45904e115"
  },
  {
   "metadata": {
    "jupyter": {
     "is_executing": true
    },
    "ExecuteTime": {
     "start_time": "2024-10-10T22:06:27.849809Z"
    }
   },
   "cell_type": "code",
   "source": [
    "# Compute similarity for each feature\n",
    "genre_sim = cosine_similarity(genre_matrix)\n",
    "director_sim = cosine_similarity(director_matrix_reduced)\n",
    "actor_sim = cosine_similarity(actor_matrix_reduced)\n",
    "producer_sim = cosine_similarity(producer_matrix_reduced)\n",
    "title_sim = cosine_similarity(title_matrix_reduced)\n",
    "\n",
    "\n",
    "# Define weights\n",
    "w_genre = 0.5\n",
    "w_director = 0.2\n",
    "w_actor = 0.2\n",
    "w_producer = 0.1\n",
    "w_title = 0.1\n",
    "\n",
    "# Ensure weights sum to 1\n",
    "total_weight = w_genre + w_director + w_actor + w_producer + w_title\n",
    "w_genre /= total_weight\n",
    "w_director /= total_weight\n",
    "w_actor /= total_weight\n",
    "w_producer /= total_weight\n",
    "w_title /= total_weight\n",
    "\n",
    "# Combine similarity matrices\n",
    "cosine_sim_separate = (w_genre * genre_sim +\n",
    "                       w_director * director_sim +\n",
    "                       w_actor * actor_sim +\n",
    "                       w_producer * producer_sim +\n",
    "                       w_title * title_sim)\n"
   ],
   "id": "44517c90ccd1f67f",
   "outputs": [],
   "execution_count": null
  },
  {
   "metadata": {},
   "cell_type": "markdown",
   "source": [
    "## Collaborative Filtering\n",
    "We will implement collaborative filtering using the Surprise library, ensuring a time-wise train-test split to prevent data leakage."
   ],
   "id": "7ef962e990937f58"
  },
  {
   "metadata": {},
   "cell_type": "markdown",
   "source": [
    "### Prepare Data\n",
    "Assign Ratings Based on Interaction Types"
   ],
   "id": "8241a307846658"
  },
  {
   "metadata": {},
   "cell_type": "code",
   "outputs": [],
   "execution_count": null,
   "source": [
    "# Map interaction types to ratings\n",
    "interaction_weights = {\n",
    "    'likelist_addition': 3,\n",
    "    'seenlist_addition': 2,\n",
    "    'watchlist_addition': 1,\n",
    "    'clickout_provider': 0.5\n",
    "}\n",
    "\n",
    "interactions['RATING'] = interactions['INTERACTION_TYPE'].map(interaction_weights)\n",
    "interactions.dropna(subset=['RATING'], inplace=True)\n",
    "interactions['RATING'] = interactions['RATING'].astype(float)\n"
   ],
   "id": "7f9e9c2cf86903f6"
  },
  {
   "metadata": {},
   "cell_type": "code",
   "outputs": [],
   "execution_count": null,
   "source": [
    "# Convert 'COLLECTOR_TSTAMP' to datetime\n",
    "interactions['COLLECTOR_TSTAMP'] = pd.to_datetime(interactions['COLLECTOR_TSTAMP'])\n",
    "\n",
    "# Sort data by timestamp\n",
    "interactions_sorted = interactions.sort_values('COLLECTOR_TSTAMP')\n",
    "\n",
    "# Define cutoff date (e.g., last 20% of data for testing)\n",
    "cutoff_date = interactions_sorted['COLLECTOR_TSTAMP'].quantile(0.8)\n",
    "\n",
    "# Split data\n",
    "train_data = interactions_sorted[interactions_sorted['COLLECTOR_TSTAMP'] <= cutoff_date]\n",
    "test_data = interactions_sorted[interactions_sorted['COLLECTOR_TSTAMP'] > cutoff_date]\n"
   ],
   "id": "d07fb7ce05da7d26"
  },
  {
   "metadata": {},
   "cell_type": "code",
   "outputs": [],
   "execution_count": null,
   "source": [
    "from surprise import Dataset, Reader, SVD, accuracy\n",
    "\n",
    "# Prepare the data\n",
    "reader = Reader(rating_scale=(0.5, 3))\n",
    "train_dataset = Dataset.load_from_df(train_data[['BE_ID', 'TITLE_ID', 'RATING']], reader)\n",
    "trainset = train_dataset.build_full_trainset()\n",
    "\n",
    "# Prepare testset\n",
    "testset = list(zip(test_data['BE_ID'], test_data['TITLE_ID'], test_data['RATING']))\n"
   ],
   "id": "b7506688ebcde006"
  },
  {
   "metadata": {},
   "cell_type": "code",
   "outputs": [],
   "execution_count": null,
   "source": [
    "# Initialize and train the SVD algorithm\n",
    "algo = SVD(random_state=42)\n",
    "algo.fit(trainset)\n"
   ],
   "id": "6ea74cacd0d55b27"
  },
  {
   "metadata": {},
   "cell_type": "code",
   "outputs": [],
   "execution_count": null,
   "source": [
    "# Test the algorithm\n",
    "predictions = algo.test(testset)\n",
    "rmse = accuracy.rmse(predictions)\n",
    "print(f\"Test RMSE: {rmse:.4f}\")\n"
   ],
   "id": "8d06c7a55a0f99ec"
  },
  {
   "metadata": {},
   "cell_type": "code",
   "outputs": [],
   "execution_count": null,
   "source": [
    "# Get unique users and items\n",
    "unique_users = interactions['BE_ID'].unique()\n",
    "unique_items = interactions['TITLE_ID'].unique()\n",
    "\n",
    "def get_svd_recommendations(user_id, n=10):\n",
    "    # Get items the user has interacted with in the training set\n",
    "    interacted_items = set(train_data[train_data['BE_ID'] == user_id]['TITLE_ID'])\n",
    "    \n",
    "    # Predict ratings for all items not yet interacted with\n",
    "    items_to_predict = [iid for iid in unique_items if iid not in interacted_items]\n",
    "    predictions = [algo.predict(user_id, iid) for iid in items_to_predict]\n",
    "    \n",
    "    # Sort predictions by estimated rating\n",
    "    predictions.sort(key=lambda x: x.est, reverse=True)\n",
    "    \n",
    "    # Get top N recommendations\n",
    "    top_n = predictions[:n]\n",
    "    top_n_iids = [pred.iid for pred in top_n]\n",
    "    \n",
    "    # Return titles of recommended items\n",
    "    recommended_titles = titles[titles['TITLE_ID'].isin(top_n_iids)]\n",
    "    return recommended_titles[['TITLE_ID', 'ORIGINAL_TITLE', 'GENRE_TMDB']]\n"
   ],
   "id": "c82cbf744d335a86"
  },
  {
   "metadata": {},
   "cell_type": "code",
   "outputs": [],
   "execution_count": null,
   "source": "indices = pd.Series(titles.index, index=titles['TITLE_ID']).drop_duplicates()\n",
   "id": "9438d403556a5460"
  },
  {
   "metadata": {},
   "cell_type": "markdown",
   "source": "## Evaluation Metrics",
   "id": "6d63badb2e6ccb0f"
  },
  {
   "metadata": {},
   "cell_type": "code",
   "outputs": [],
   "execution_count": null,
   "source": [
    "def precision_at_k(recommended_items, relevant_items, k):\n",
    "    recommended_k = recommended_items[:k]\n",
    "    relevant_set = set(relevant_items)\n",
    "    recommended_set = set(recommended_k)\n",
    "    intersection = recommended_set.intersection(relevant_set)\n",
    "    precision = len(intersection) / k\n",
    "    return precision\n",
    "\n",
    "def recall_at_k(recommended_items, relevant_items, k):\n",
    "    recommended_k = recommended_items[:k]\n",
    "    relevant_set = set(relevant_items)\n",
    "    recommended_set = set(recommended_k)\n",
    "    intersection = recommended_set.intersection(relevant_set)\n",
    "    recall = len(intersection) / len(relevant_set) if len(relevant_set) > 0 else 0\n",
    "    return recall\n",
    "\n",
    "def f1_at_k(precision, recall):\n",
    "    if precision + recall == 0:\n",
    "        return 0\n",
    "    return 2 * (precision * recall) / (precision + recall)\n"
   ],
   "id": "82e4977734bf829a"
  },
  {
   "metadata": {},
   "cell_type": "markdown",
   "source": "### Prepare Data for Evaluation",
   "id": "91e497e5f057effb"
  },
  {
   "metadata": {},
   "cell_type": "code",
   "outputs": [],
   "execution_count": null,
   "source": [
    "# Consider 'likelist_addition' and 'seenlist_addition' as positive interactions\n",
    "positive_interactions = interactions[interactions['INTERACTION_TYPE'].isin(['likelist_addition', 'seenlist_addition'])]\n",
    "\n",
    "# Create user-item interaction matrix\n",
    "user_item_matrix = positive_interactions.groupby('BE_ID')['TITLE_ID'].apply(list).reset_index()\n",
    "\n",
    "# Time-wise train-test split\n",
    "positive_interactions['COLLECTOR_TSTAMP'] = pd.to_datetime(positive_interactions['COLLECTOR_TSTAMP'])\n",
    "positive_interactions = positive_interactions.sort_values('COLLECTOR_TSTAMP')\n",
    "\n",
    "cutoff_date = positive_interactions['COLLECTOR_TSTAMP'].quantile(0.8)\n",
    "\n",
    "train_data = positive_interactions[positive_interactions['COLLECTOR_TSTAMP'] <= cutoff_date]\n",
    "test_data = positive_interactions[positive_interactions['COLLECTOR_TSTAMP'] > cutoff_date]\n",
    "\n",
    "# Create dictionaries for train and test interactions\n",
    "train_interactions = train_data.groupby('BE_ID')['TITLE_ID'].apply(set).to_dict()\n",
    "test_interactions = test_data.groupby('BE_ID')['TITLE_ID'].apply(set).to_dict()\n"
   ],
   "id": "9ed3346fb0719542"
  },
  {
   "metadata": {},
   "cell_type": "code",
   "outputs": [],
   "execution_count": null,
   "source": "indices = pd.Series(titles.index, index=titles['TITLE_ID']).drop_duplicates()\n",
   "id": "21879bdcbd63a29c"
  },
  {
   "metadata": {},
   "cell_type": "code",
   "outputs": [],
   "execution_count": null,
   "source": [
    "def get_recommendations(title_id, cosine_sim):\n",
    "    if title_id not in indices:\n",
    "        return []\n",
    "    idx = indices[title_id]\n",
    "    sim_scores = list(enumerate(cosine_sim[idx]))\n",
    "    sim_scores = sorted(sim_scores, key=lambda x: x[1], reverse=True)\n",
    "    sim_scores = sim_scores[1:11]  # Exclude itself\n",
    "    title_indices = [i[0] for i in sim_scores]\n",
    "    recommended_titles = titles.iloc[title_indices]['TITLE_ID'].tolist()\n",
    "    return recommended_titles\n",
    "\n",
    "def evaluate_algorithm(cosine_sim, algorithm_name):\n",
    "    k = 10\n",
    "    precision_list = []\n",
    "    recall_list = []\n",
    "    f1_list = []\n",
    "\n",
    "    # Evaluate on a sample of users\n",
    "    sample_users = list(test_interactions.keys())[:1000]  # Limit for computational purposes\n",
    "    for user in sample_users:\n",
    "        relevant_items = test_interactions[user]\n",
    "        recommended_items = []\n",
    "        # For each title the user interacted with in test data, get recommendations\n",
    "        for title_id in relevant_items:\n",
    "            recs = get_recommendations(title_id, cosine_sim)\n",
    "            recommended_items.extend(recs)\n",
    "        # Remove duplicates\n",
    "        recommended_items = list(set(recommended_items))\n",
    "        if recommended_items:\n",
    "            precision = precision_at_k(recommended_items, relevant_items, k)\n",
    "            recall = recall_at_k(recommended_items, relevant_items, k)\n",
    "            f1 = f1_at_k(precision, recall)\n",
    "            precision_list.append(precision)\n",
    "            recall_list.append(recall)\n",
    "            f1_list.append(f1)\n",
    "\n",
    "    # Compute average metrics\n",
    "    avg_precision = np.mean(precision_list)\n",
    "    avg_recall = np.mean(recall_list)\n",
    "    avg_f1 = np.mean(f1_list)\n",
    "\n",
    "    print(f\"Evaluation Results for {algorithm_name}:\")\n",
    "    print(f\"Precision@{k}: {avg_precision:.4f}\")\n",
    "    print(f\"Recall@{k}: {avg_recall:.4f}\")\n",
    "    print(f\"F1-Score@{k}: {avg_f1:.4f}\")\n",
    "    print(\"\\n\")\n",
    "\n",
    "\n",
    "def evaluate_svd(algorithm_name):\n",
    "    k = 10\n",
    "    precision_list = []\n",
    "    recall_list = []\n",
    "    f1_list = []\n",
    "\n",
    "    sample_users = list(test_interactions.keys())[:1000]  # Limit for computational purposes\n",
    "    for user in sample_users:\n",
    "        relevant_items = test_interactions[user]\n",
    "        recommended_titles = get_svd_recommendations(user)['TITLE_ID'].tolist()\n",
    "        if recommended_titles:\n",
    "            precision = precision_at_k(recommended_titles, relevant_items, k)\n",
    "            recall = recall_at_k(recommended_titles, relevant_items, k)\n",
    "            f1 = f1_at_k(precision, recall)\n",
    "            precision_list.append(precision)\n",
    "            recall_list.append(recall)\n",
    "            f1_list.append(f1)\n",
    "\n",
    "    # Compute average metrics\n",
    "    avg_precision = np.mean(precision_list)\n",
    "    avg_recall = np.mean(recall_list)\n",
    "    avg_f1 = np.mean(f1_list)\n",
    "\n",
    "    print(f\"Evaluation Results for {algorithm_name}:\")\n",
    "    print(f\"Precision@{k}: {avg_precision:.4f}\")\n",
    "    print(f\"Recall@{k}: {avg_recall:.4f}\")\n",
    "    print(f\"F1-Score@{k}: {avg_f1:.4f}\")\n",
    "    print(\"\\n\")\n"
   ],
   "id": "eaf29a81770a2d29"
  },
  {
   "metadata": {},
   "cell_type": "code",
   "outputs": [],
   "execution_count": null,
   "source": [
    "# Evaluate Content-Based Filtering using Soup Features\n",
    "evaluate_algorithm(cosine_sim_tfidf, \"Content-Based (Soup Features-TFIDF)\")\n",
    "\n",
    "evaluate_algorithm(cosine_sim_svd, \"Content-Based (Soup Features-SVD)\")\n",
    "\n",
    "# Evaluate Content-Based Filtering using Separate Features\n",
    "evaluate_algorithm(cosine_sim_separate, \"Content-Based (Separate Features)\")\n",
    "\n",
    "# Evaluate Collaborative Filtering\n",
    "evaluate_svd(\"Collaborative Filtering (SVD)\")\n"
   ],
   "id": "425229d2d8d484f5"
  },
  {
   "metadata": {},
   "cell_type": "code",
   "outputs": [],
   "execution_count": null,
   "source": [
    "title_id = 'tm107473'\n",
    "\n",
    "# Using Content-Based (Separate Features)\n",
    "recs_separate = get_recommendations(title_id, cosine_sim_separate)\n",
    "print(f\"Recommendations for Title ID {title_id} using Content-Based (Separate Features):\")\n",
    "display(titles[titles['TITLE_ID'].isin(recs_separate)][['TITLE_ID', 'ORIGINAL_TITLE', 'GENRE_TMDB']])\n",
    "\n",
    "# Using Collaborative Filtering (if user ID is known)\n",
    "user_id = test_data['BE_ID'].iloc[0]  # Replace with a valid user ID if available\n",
    "recs_svd = get_svd_recommendations(user_id)\n",
    "print(f\"Recommendations for User ID {user_id} using Collaborative Filtering:\")\n",
    "display(recs_svd)\n"
   ],
   "id": "ff2069753521c06c"
  },
  {
   "metadata": {},
   "cell_type": "code",
   "outputs": [],
   "execution_count": null,
   "source": [
    "title_id = 'tm50355'\n",
    "\n",
    "# Using Content-Based (Separate Features)\n",
    "recs_separate = get_recommendations(title_id, cosine_sim_separate)\n",
    "print(f\"Recommendations for Title ID {title_id} using Content-Based (Separate Features):\")\n",
    "display(titles[titles['TITLE_ID'].isin(recs_separate)][['TITLE_ID', 'ORIGINAL_TITLE', 'GENRE_TMDB']])\n",
    "\n",
    "# Using Collaborative Filtering (if user ID is known)\n",
    "user_id = test_data['BE_ID'].iloc[1]  # Replace with a valid user ID if available\n",
    "recs_svd = get_svd_recommendations(user_id)\n",
    "print(f\"Recommendations for User ID {user_id} using Collaborative Filtering:\")\n",
    "display(recs_svd)\n"
   ],
   "id": "8328d88b08266d97"
  },
  {
   "metadata": {},
   "cell_type": "code",
   "outputs": [],
   "execution_count": null,
   "source": [
    "title_id = 'ts89259'\n",
    "\n",
    "# Using Content-Based (Separate Features)\n",
    "recs_separate = get_recommendations(title_id, cosine_sim_separate)\n",
    "print(f\"Recommendations for Title ID {title_id} using Content-Based (Separate Features):\")\n",
    "display(titles[titles['TITLE_ID'].isin(recs_separate)][['TITLE_ID', 'ORIGINAL_TITLE', 'GENRE_TMDB']])\n",
    "\n",
    "# Using Collaborative Filtering (if user ID is known)\n",
    "user_id = test_data['BE_ID'].iloc[2]  # Replace with a valid user ID if available\n",
    "recs_svd = get_svd_recommendations(user_id)\n",
    "print(f\"Recommendations for User ID {user_id} using Collaborative Filtering:\")\n",
    "display(recs_svd)\n"
   ],
   "id": "25fc74a221000cea"
  },
  {
   "metadata": {},
   "cell_type": "code",
   "outputs": [],
   "execution_count": null,
   "source": "",
   "id": "f10928102bbc3daa"
  }
 ],
 "metadata": {
  "kernelspec": {
   "display_name": "Python 3 (ipykernel)",
   "language": "python",
   "name": "python3"
  },
  "language_info": {
   "codemirror_mode": {
    "name": "ipython",
    "version": 3
   },
   "file_extension": ".py",
   "mimetype": "text/x-python",
   "name": "python",
   "nbconvert_exporter": "python",
   "pygments_lexer": "ipython3",
   "version": "3.11.7"
  }
 },
 "nbformat": 4,
 "nbformat_minor": 5
}
